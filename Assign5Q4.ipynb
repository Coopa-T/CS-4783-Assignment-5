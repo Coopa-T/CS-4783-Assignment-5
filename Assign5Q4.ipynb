{
  "nbformat": 4,
  "nbformat_minor": 0,
  "metadata": {
    "colab": {
      "provenance": []
    },
    "kernelspec": {
      "name": "python3",
      "display_name": "Python 3"
    },
    "language_info": {
      "name": "python"
    }
  },
  "cells": [
    {
      "cell_type": "code",
      "execution_count": null,
      "metadata": {
        "id": "WSyEjeKAPG1F"
      },
      "outputs": [],
      "source": [
        "import numpy as np\n",
        "import matplotlib.pyplot as plt\n",
        "import matplotlib.image as img\n",
        "from scipy import misc"
      ]
    },
    {
      "cell_type": "code",
      "source": [
        "def read_image():\n",
        "    img = misc.imread('Q4Data.png')\n",
        "    img = img / 255\n",
        "    return img"
      ],
      "metadata": {
        "id": "JdWhc58BPS7c"
      },
      "execution_count": 2,
      "outputs": []
    },
    {
      "cell_type": "code",
      "source": [
        "def initialize(img, clusters):\n",
        "    points = np.reshape(img, (img.shape[0] * img.shape[1], img.shape[2]))\n",
        "    m, n = points.shape\n",
        "    means = np.zeros((clusters, n))\n",
        "\n",
        "    for i in range(clusters):\n",
        "        rand1 = int(np.random.random(1) * 10)\n",
        "        rand2 = int(np.random.random(1) * 8)\n",
        "        means[i, 0] = points[rand1, 0]\n",
        "        means[i, 1] = points[rand2, 1]\n",
        "\n",
        "    return points, means"
      ],
      "metadata": {
        "id": "iOmSNBm7QIbH"
      },
      "execution_count": null,
      "outputs": []
    },
    {
      "cell_type": "code",
      "source": [
        "def distance(x1, y1, x2, y2):\n",
        "    dist = np.square(x1 - x2) + np.square(y1 - y2)\n",
        "    dist = np.sqrt(dist)\n",
        "    return dist"
      ],
      "metadata": {
        "id": "jyzvBb5wQ5px"
      },
      "execution_count": null,
      "outputs": []
    },
    {
      "cell_type": "code",
      "source": [
        "def k_means (points, means, clusters):\n",
        "    i = 10\n",
        "    m, n = points.shape\n",
        "    index = np.zeros(m)\n",
        "\n",
        "    while (i > 0):\n",
        "        for j in range(len(points)):\n",
        "            minv = 1000\n",
        "            temp = None\n",
        "\n",
        "            for k in range(clusters):\n",
        "                x1 = points[j, 0]\n",
        "                y1 = points[j, 1]\n",
        "                x2 = points[k, 0]\n",
        "                y2 = points[k, 1]\n",
        "\n",
        "                if (distance(x1, y1, x2, y2) < minv):\n",
        "                    minv = distance(x1, y1, x2, y2)\n",
        "                    temp = k\n",
        "                    index[j] = k\n",
        "\n",
        "            for k in range(clusters):\n",
        "                sumx = 0\n",
        "                sumy = 0\n",
        "                count = 0\n",
        "\n",
        "                for l in range (len(points)):\n",
        "                    if (index[j] == k):\n",
        "                        sumx += points[j, 0]\n",
        "                        sumy += points[j, 1]\n",
        "                        count += 1\n",
        "\n",
        "                if (count == 0):\n",
        "                    count = 1\n",
        "\n",
        "                means[k, 0] = float(sumx / count)\n",
        "                means[k, 1] = float(sumy / count)\n",
        "\n",
        "            i -= 1\n",
        "          \n",
        "        return means, index"
      ],
      "metadata": {
        "id": "mjtT26vvRHwR"
      },
      "execution_count": null,
      "outputs": []
    },
    {
      "cell_type": "code",
      "source": [
        "def compress(means, index, img):\n",
        "    centroid = np.array(means)\n",
        "    recovered = centroid[index.astype(int), :]\n",
        "    recovered = np.reshape(recovered, (img.shape[0], img.shape[1], img.shape[2]))\n",
        "\n",
        "    plt.imshow(recovered)\n",
        "    plt.show()\n",
        "    misc.imsave('compressed_' + str(clusters) + '_colors.png', recovered)\n",
        "\n",
        "    if __name__ == '__main__':\n",
        "        img = read_image()\n",
        "\n",
        "    clusters = 16\n",
        "    clusters = int(input('Enter the number of colors in the compressed image.'))\n",
        "    points, means = initialize(img, clusters)\n",
        "    means, index = k_means(points, means, clusters)\n",
        "    compress(means, index, img)"
      ],
      "metadata": {
        "id": "hFBSuHLLT3DG"
      },
      "execution_count": null,
      "outputs": []
    }
  ]
}